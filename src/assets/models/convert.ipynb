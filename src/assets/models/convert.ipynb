{
 "cells": [
  {
   "cell_type": "code",
   "execution_count": 2,
   "metadata": {},
   "outputs": [],
   "source": [
    "import tensorflow as tf\n",
    "\n",
    "model = tf.keras.models.load_model('CNN-Xception-Flowers-Data-Challenge.h5')"
   ]
  },
  {
   "cell_type": "code",
   "execution_count": 3,
   "metadata": {},
   "outputs": [
    {
     "ename": "AttributeError",
     "evalue": "module 'tensorflow._api.v2.saved_model' has no attribute 'simple_save'",
     "output_type": "error",
     "traceback": [
      "\u001b[1;31m---------------------------------------------------------------------------\u001b[0m",
      "\u001b[1;31mAttributeError\u001b[0m                            Traceback (most recent call last)",
      "Cell \u001b[1;32mIn [3], line 1\u001b[0m\n\u001b[1;32m----> 1\u001b[0m tf\u001b[39m.\u001b[39;49msaved_model\u001b[39m.\u001b[39;49msimple_save(inputs\u001b[39m=\u001b[39m{\u001b[39m'\u001b[39m\u001b[39minput_image\u001b[39m\u001b[39m'\u001b[39m: model\u001b[39m.\u001b[39minput}, outputs\u001b[39m=\u001b[39m{t\u001b[39m.\u001b[39mname: t \u001b[39mfor\u001b[39;00m t \u001b[39min\u001b[39;00m model\u001b[39m.\u001b[39moutputs})\n",
      "\u001b[1;31mAttributeError\u001b[0m: module 'tensorflow._api.v2.saved_model' has no attribute 'simple_save'"
     ]
    }
   ],
   "source": [
    "tf.saved_model.simple_save(inputs={'input_image': model.input}, outputs={t.name: t for t in model.outputs})"
   ]
  }
 ],
 "metadata": {
  "kernelspec": {
   "display_name": "Python 3",
   "language": "python",
   "name": "python3"
  },
  "language_info": {
   "codemirror_mode": {
    "name": "ipython",
    "version": 3
   },
   "file_extension": ".py",
   "mimetype": "text/x-python",
   "name": "python",
   "nbconvert_exporter": "python",
   "pygments_lexer": "ipython3",
   "version": "3.10.7"
  },
  "orig_nbformat": 4,
  "vscode": {
   "interpreter": {
    "hash": "4fa3f0caee3b4c0f9e5f2dac838d43cce511dac4a0569b6a478f6100d3a5a6ca"
   }
  }
 },
 "nbformat": 4,
 "nbformat_minor": 2
}
